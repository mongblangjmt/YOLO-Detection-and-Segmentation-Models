{
  "cells": [
    {
      "cell_type": "markdown",
      "metadata": {
        "id": "view-in-github",
        "colab_type": "text"
      },
      "source": [
        "<a href=\"https://colab.research.google.com/github/mongblangjmt/YOLO-Detection-and-Segmentation-Models/blob/master/%EC%8B%A4%EC%8A%B51_%EB%8D%B0%EC%9D%B4%ED%84%B0%EC%85%8B_%EA%B0%80%EC%A7%80%EA%B3%A0%EB%86%80%EA%B8%B00701.ipynb\" target=\"_parent\"><img src=\"https://colab.research.google.com/assets/colab-badge.svg\" alt=\"Open In Colab\"/></a>"
      ]
    },
    {
      "cell_type": "markdown",
      "id": "08342350",
      "metadata": {
        "id": "08342350"
      },
      "source": [
        "# 실습 2: 데이터셋 가지고 놀기"
      ]
    },
    {
      "cell_type": "markdown",
      "id": "be540baf",
      "metadata": {
        "id": "be540baf"
      },
      "source": [
        "본 실습에서 사용하는 데이터셋(2019 NBA 드래프트)의 출처는 다음과 같음을 밝힌다.\n",
        "\n",
        "Raw Data 출처: Aran_Smith, 〈2019 NBA Draft Combine Measurements〉, 《NBADRAFT.NET》, 〈https://www.nbadraft.net/2019-nba-draft-combine-measurements/〉, 개제 2019.05.19, 방문 날짜 2022.03.01.\n",
        "\n",
        "편집자: MIT Beaverworks에서 NetCDF-4 형식으로 편집"
      ]
    },
    {
      "cell_type": "markdown",
      "id": "ac03997f",
      "metadata": {
        "id": "ac03997f"
      },
      "source": [
        "우리가 계속 사용해온 2019 NBA 드래프트 참가자들의 신체 정보가 담긴 데이터에 대해 탐색해보자. 이는 본격적인 학습에 들어가기 전에 꼭 필요한 작업이다. 데이터 탐색 없이 바로 분석에 뛰어드는 책으로만 공부하는 경우, 동일한 분석 수단을 그대로 적용할 수 없는 데이터를 만났을 때에도 동일 분석 수단을 그대로 적용해버리는 실수를 할 수 있다.\n",
        "\n",
        "데이터를 탐색할 때에는 세 가지 질문을 던져야 한다.\n",
        "> 1) 데이터의 형식은 무엇인가? 데이터의 범위, 차원(개수) 등을 기본적으로 확인하고, 모든 데이터가 동일한 형식으로 저장되었는지, 압축 등 노이즈를 유발하는 요인은 없는지 체크해야 한다.\n",
        ">\n",
        "> 2) 데이터의 수집 방법은 무엇인가? 데이터의 단위(ex – 센티미터, 인치 등), 데이터가 수집된 환경 등을 확인하며, 명백한 측정 오류는 없는지, 데이터의 편향을 유발하는 요인은 없는지 체크해야 한다.\n",
        ">\n",
        "> 3) 데이터의 통계는 어떠한가? 최대, 최솟값을 비롯한 다양한 통계량을 확인하고, 산점도, 히스토그램 등 시각화를 이용하여 데이터의 분포를 확인해야 한다."
      ]
    },
    {
      "cell_type": "markdown",
      "id": "78cc775e",
      "metadata": {
        "id": "78cc775e"
      },
      "source": [
        "2019 NBA 드래프트 참가자 데이터셋를 탐색해보자\n",
        "\n",
        "우리가 사용할 \"nba_draft_measurements.nc\"의 데이터 형식은 NetCDF-4 형식으로, 수집된 측정을 정확히 반영하여 저장하는 파일 형식이므로 노이즈 유발 등의 영향이 없다. 그리고 데이터의 수집 방법은 농구 선수들을 대상으로 하였기 때문에 일반인들보다 신체조건이 우월한 쪽으로 편향이 되어 있고, 길이의 단위는 인치, 무게의 단위는 파운드로 측정이 되었다. 또한 길이는 1/4인치까지, 무게는 1/5파운드까지 측정이 되어있으며, 이는 측정의 정밀도와 관련된 오류의 원인이 될 수 있다."
      ]
    },
    {
      "cell_type": "markdown",
      "source": [
        "### Step 0. 구글 드라이브와 연동하기"
      ],
      "metadata": {
        "id": "9GwqqIzsmSAi"
      },
      "id": "9GwqqIzsmSAi"
    },
    {
      "cell_type": "code",
      "source": [
        "from google.colab import drive\n",
        "drive.mount('/content/gdrive')"
      ],
      "metadata": {
        "id": "6za0D-gvmPS8",
        "outputId": "dbd3d15f-1b45-41b3-8554-b40f0a20787e",
        "colab": {
          "base_uri": "https://localhost:8080/"
        }
      },
      "id": "6za0D-gvmPS8",
      "execution_count": 33,
      "outputs": [
        {
          "output_type": "stream",
          "name": "stdout",
          "text": [
            "Drive already mounted at /content/gdrive; to attempt to forcibly remount, call drive.mount(\"/content/gdrive\", force_remount=True).\n"
          ]
        }
      ]
    },
    {
      "cell_type": "markdown",
      "id": "aed28b03",
      "metadata": {
        "id": "aed28b03"
      },
      "source": [
        "### Step 1. 데이터셋 출력하여 살펴보기"
      ]
    },
    {
      "cell_type": "markdown",
      "source": [
        "아래 코드의 느낌표는 Jupyter Notebook이나 Google Colab과 같은 대화형 환경에서 셸 명령어를 실행할 수 있도록 한다. 즉, Python 코드가 아닌 셸 명령어를 실행하기 위해 사용한다."
      ],
      "metadata": {
        "id": "URzJHJKglknW"
      },
      "id": "URzJHJKglknW"
    },
    {
      "cell_type": "code",
      "source": [
        "# 코랩에서 필요한 패키지 설치\n",
        "!pip install netCDF4 pandas"
      ],
      "metadata": {
        "id": "XcAPJLW1lO8h",
        "outputId": "e7c5b4c6-0c20-495d-a362-f0631f8f7f40",
        "colab": {
          "base_uri": "https://localhost:8080/"
        }
      },
      "id": "XcAPJLW1lO8h",
      "execution_count": 34,
      "outputs": [
        {
          "output_type": "stream",
          "name": "stdout",
          "text": [
            "Requirement already satisfied: netCDF4 in /usr/local/lib/python3.11/dist-packages (1.7.2)\n",
            "Requirement already satisfied: pandas in /usr/local/lib/python3.11/dist-packages (2.2.2)\n",
            "Requirement already satisfied: cftime in /usr/local/lib/python3.11/dist-packages (from netCDF4) (1.6.4.post1)\n",
            "Requirement already satisfied: certifi in /usr/local/lib/python3.11/dist-packages (from netCDF4) (2025.6.15)\n",
            "Requirement already satisfied: numpy in /usr/local/lib/python3.11/dist-packages (from netCDF4) (2.0.2)\n",
            "Requirement already satisfied: python-dateutil>=2.8.2 in /usr/local/lib/python3.11/dist-packages (from pandas) (2.9.0.post0)\n",
            "Requirement already satisfied: pytz>=2020.1 in /usr/local/lib/python3.11/dist-packages (from pandas) (2025.2)\n",
            "Requirement already satisfied: tzdata>=2022.7 in /usr/local/lib/python3.11/dist-packages (from pandas) (2025.2)\n",
            "Requirement already satisfied: six>=1.5 in /usr/local/lib/python3.11/dist-packages (from python-dateutil>=2.8.2->pandas) (1.17.0)\n"
          ]
        }
      ]
    },
    {
      "cell_type": "markdown",
      "id": "618e9146",
      "metadata": {
        "id": "618e9146"
      },
      "source": [
        "netCDF4 라이브러리를 이용하면 NetCDF-4 형식의 데이터를 불러올 수 있다. NetCDF-4 형식의 데이터를 pandas.DataFrame 데이터로 변환시키면 이 데이터는 numpy.ndarray로 쉽게 변환이 된다. 아래 코드를 실행시키면 우리의 데이터셋이 어떻게 구성되어 있는지 확인할 수 있다."
      ]
    },
    {
      "cell_type": "code",
      "execution_count": 35,
      "id": "0b188691",
      "metadata": {
        "id": "0b188691"
      },
      "outputs": [],
      "source": [
        "#from pathlib import Path\n",
        "import netCDF4 as nc\n",
        "import pandas as pd\n",
        "import numpy as np"
      ]
    },
    {
      "cell_type": "code",
      "execution_count": 36,
      "id": "46f81ec7",
      "metadata": {
        "id": "46f81ec7",
        "outputId": "a6e1f9ff-575a-44ef-cd3b-40838347cc53",
        "colab": {
          "base_uri": "https://localhost:8080/",
          "height": 206
        }
      },
      "outputs": [
        {
          "output_type": "execute_result",
          "data": {
            "text/plain": [
              "                      names position  height_no_shoes  height_with_shoes  \\\n",
              "0  Nickeil Alexander-Walker       SG            76.25              77.50   \n",
              "1            Charles Bassey        C            80.75              82.00   \n",
              "2             Darius Bazley       PF            79.75              81.00   \n",
              "3                   Bol Bol        C            84.75              86.50   \n",
              "4               Jordan Bone       SG            73.50              74.75   \n",
              "\n",
              "   weight  wingspan  standing_reach  body_fat_prcnt  hand_length  hand_width  \n",
              "0   203.8     81.50           102.0             5.9         8.50        8.75  \n",
              "1   239.0     87.50           109.5             8.5         9.25        9.50  \n",
              "2   208.4     84.00           107.0             3.6         9.00        9.75  \n",
              "3   208.0     91.00           115.5             7.1         9.25        9.50  \n",
              "4   179.0     75.25            95.0             5.0         7.50        9.25  "
            ],
            "text/html": [
              "\n",
              "  <div id=\"df-08bfb1f9-55a3-4bf8-8b22-13e11ce491ce\" class=\"colab-df-container\">\n",
              "    <div>\n",
              "<style scoped>\n",
              "    .dataframe tbody tr th:only-of-type {\n",
              "        vertical-align: middle;\n",
              "    }\n",
              "\n",
              "    .dataframe tbody tr th {\n",
              "        vertical-align: top;\n",
              "    }\n",
              "\n",
              "    .dataframe thead th {\n",
              "        text-align: right;\n",
              "    }\n",
              "</style>\n",
              "<table border=\"1\" class=\"dataframe\">\n",
              "  <thead>\n",
              "    <tr style=\"text-align: right;\">\n",
              "      <th></th>\n",
              "      <th>names</th>\n",
              "      <th>position</th>\n",
              "      <th>height_no_shoes</th>\n",
              "      <th>height_with_shoes</th>\n",
              "      <th>weight</th>\n",
              "      <th>wingspan</th>\n",
              "      <th>standing_reach</th>\n",
              "      <th>body_fat_prcnt</th>\n",
              "      <th>hand_length</th>\n",
              "      <th>hand_width</th>\n",
              "    </tr>\n",
              "  </thead>\n",
              "  <tbody>\n",
              "    <tr>\n",
              "      <th>0</th>\n",
              "      <td>Nickeil Alexander-Walker</td>\n",
              "      <td>SG</td>\n",
              "      <td>76.25</td>\n",
              "      <td>77.50</td>\n",
              "      <td>203.8</td>\n",
              "      <td>81.50</td>\n",
              "      <td>102.0</td>\n",
              "      <td>5.9</td>\n",
              "      <td>8.50</td>\n",
              "      <td>8.75</td>\n",
              "    </tr>\n",
              "    <tr>\n",
              "      <th>1</th>\n",
              "      <td>Charles Bassey</td>\n",
              "      <td>C</td>\n",
              "      <td>80.75</td>\n",
              "      <td>82.00</td>\n",
              "      <td>239.0</td>\n",
              "      <td>87.50</td>\n",
              "      <td>109.5</td>\n",
              "      <td>8.5</td>\n",
              "      <td>9.25</td>\n",
              "      <td>9.50</td>\n",
              "    </tr>\n",
              "    <tr>\n",
              "      <th>2</th>\n",
              "      <td>Darius Bazley</td>\n",
              "      <td>PF</td>\n",
              "      <td>79.75</td>\n",
              "      <td>81.00</td>\n",
              "      <td>208.4</td>\n",
              "      <td>84.00</td>\n",
              "      <td>107.0</td>\n",
              "      <td>3.6</td>\n",
              "      <td>9.00</td>\n",
              "      <td>9.75</td>\n",
              "    </tr>\n",
              "    <tr>\n",
              "      <th>3</th>\n",
              "      <td>Bol Bol</td>\n",
              "      <td>C</td>\n",
              "      <td>84.75</td>\n",
              "      <td>86.50</td>\n",
              "      <td>208.0</td>\n",
              "      <td>91.00</td>\n",
              "      <td>115.5</td>\n",
              "      <td>7.1</td>\n",
              "      <td>9.25</td>\n",
              "      <td>9.50</td>\n",
              "    </tr>\n",
              "    <tr>\n",
              "      <th>4</th>\n",
              "      <td>Jordan Bone</td>\n",
              "      <td>SG</td>\n",
              "      <td>73.50</td>\n",
              "      <td>74.75</td>\n",
              "      <td>179.0</td>\n",
              "      <td>75.25</td>\n",
              "      <td>95.0</td>\n",
              "      <td>5.0</td>\n",
              "      <td>7.50</td>\n",
              "      <td>9.25</td>\n",
              "    </tr>\n",
              "  </tbody>\n",
              "</table>\n",
              "</div>\n",
              "    <div class=\"colab-df-buttons\">\n",
              "\n",
              "  <div class=\"colab-df-container\">\n",
              "    <button class=\"colab-df-convert\" onclick=\"convertToInteractive('df-08bfb1f9-55a3-4bf8-8b22-13e11ce491ce')\"\n",
              "            title=\"Convert this dataframe to an interactive table.\"\n",
              "            style=\"display:none;\">\n",
              "\n",
              "  <svg xmlns=\"http://www.w3.org/2000/svg\" height=\"24px\" viewBox=\"0 -960 960 960\">\n",
              "    <path d=\"M120-120v-720h720v720H120Zm60-500h600v-160H180v160Zm220 220h160v-160H400v160Zm0 220h160v-160H400v160ZM180-400h160v-160H180v160Zm440 0h160v-160H620v160ZM180-180h160v-160H180v160Zm440 0h160v-160H620v160Z\"/>\n",
              "  </svg>\n",
              "    </button>\n",
              "\n",
              "  <style>\n",
              "    .colab-df-container {\n",
              "      display:flex;\n",
              "      gap: 12px;\n",
              "    }\n",
              "\n",
              "    .colab-df-convert {\n",
              "      background-color: #E8F0FE;\n",
              "      border: none;\n",
              "      border-radius: 50%;\n",
              "      cursor: pointer;\n",
              "      display: none;\n",
              "      fill: #1967D2;\n",
              "      height: 32px;\n",
              "      padding: 0 0 0 0;\n",
              "      width: 32px;\n",
              "    }\n",
              "\n",
              "    .colab-df-convert:hover {\n",
              "      background-color: #E2EBFA;\n",
              "      box-shadow: 0px 1px 2px rgba(60, 64, 67, 0.3), 0px 1px 3px 1px rgba(60, 64, 67, 0.15);\n",
              "      fill: #174EA6;\n",
              "    }\n",
              "\n",
              "    .colab-df-buttons div {\n",
              "      margin-bottom: 4px;\n",
              "    }\n",
              "\n",
              "    [theme=dark] .colab-df-convert {\n",
              "      background-color: #3B4455;\n",
              "      fill: #D2E3FC;\n",
              "    }\n",
              "\n",
              "    [theme=dark] .colab-df-convert:hover {\n",
              "      background-color: #434B5C;\n",
              "      box-shadow: 0px 1px 3px 1px rgba(0, 0, 0, 0.15);\n",
              "      filter: drop-shadow(0px 1px 2px rgba(0, 0, 0, 0.3));\n",
              "      fill: #FFFFFF;\n",
              "    }\n",
              "  </style>\n",
              "\n",
              "    <script>\n",
              "      const buttonEl =\n",
              "        document.querySelector('#df-08bfb1f9-55a3-4bf8-8b22-13e11ce491ce button.colab-df-convert');\n",
              "      buttonEl.style.display =\n",
              "        google.colab.kernel.accessAllowed ? 'block' : 'none';\n",
              "\n",
              "      async function convertToInteractive(key) {\n",
              "        const element = document.querySelector('#df-08bfb1f9-55a3-4bf8-8b22-13e11ce491ce');\n",
              "        const dataTable =\n",
              "          await google.colab.kernel.invokeFunction('convertToInteractive',\n",
              "                                                    [key], {});\n",
              "        if (!dataTable) return;\n",
              "\n",
              "        const docLinkHtml = 'Like what you see? Visit the ' +\n",
              "          '<a target=\"_blank\" href=https://colab.research.google.com/notebooks/data_table.ipynb>data table notebook</a>'\n",
              "          + ' to learn more about interactive tables.';\n",
              "        element.innerHTML = '';\n",
              "        dataTable['output_type'] = 'display_data';\n",
              "        await google.colab.output.renderOutput(dataTable, element);\n",
              "        const docLink = document.createElement('div');\n",
              "        docLink.innerHTML = docLinkHtml;\n",
              "        element.appendChild(docLink);\n",
              "      }\n",
              "    </script>\n",
              "  </div>\n",
              "\n",
              "\n",
              "    <div id=\"df-f3e0e84d-9da8-4a07-a871-a9ea14e6bbb7\">\n",
              "      <button class=\"colab-df-quickchart\" onclick=\"quickchart('df-f3e0e84d-9da8-4a07-a871-a9ea14e6bbb7')\"\n",
              "                title=\"Suggest charts\"\n",
              "                style=\"display:none;\">\n",
              "\n",
              "<svg xmlns=\"http://www.w3.org/2000/svg\" height=\"24px\"viewBox=\"0 0 24 24\"\n",
              "     width=\"24px\">\n",
              "    <g>\n",
              "        <path d=\"M19 3H5c-1.1 0-2 .9-2 2v14c0 1.1.9 2 2 2h14c1.1 0 2-.9 2-2V5c0-1.1-.9-2-2-2zM9 17H7v-7h2v7zm4 0h-2V7h2v10zm4 0h-2v-4h2v4z\"/>\n",
              "    </g>\n",
              "</svg>\n",
              "      </button>\n",
              "\n",
              "<style>\n",
              "  .colab-df-quickchart {\n",
              "      --bg-color: #E8F0FE;\n",
              "      --fill-color: #1967D2;\n",
              "      --hover-bg-color: #E2EBFA;\n",
              "      --hover-fill-color: #174EA6;\n",
              "      --disabled-fill-color: #AAA;\n",
              "      --disabled-bg-color: #DDD;\n",
              "  }\n",
              "\n",
              "  [theme=dark] .colab-df-quickchart {\n",
              "      --bg-color: #3B4455;\n",
              "      --fill-color: #D2E3FC;\n",
              "      --hover-bg-color: #434B5C;\n",
              "      --hover-fill-color: #FFFFFF;\n",
              "      --disabled-bg-color: #3B4455;\n",
              "      --disabled-fill-color: #666;\n",
              "  }\n",
              "\n",
              "  .colab-df-quickchart {\n",
              "    background-color: var(--bg-color);\n",
              "    border: none;\n",
              "    border-radius: 50%;\n",
              "    cursor: pointer;\n",
              "    display: none;\n",
              "    fill: var(--fill-color);\n",
              "    height: 32px;\n",
              "    padding: 0;\n",
              "    width: 32px;\n",
              "  }\n",
              "\n",
              "  .colab-df-quickchart:hover {\n",
              "    background-color: var(--hover-bg-color);\n",
              "    box-shadow: 0 1px 2px rgba(60, 64, 67, 0.3), 0 1px 3px 1px rgba(60, 64, 67, 0.15);\n",
              "    fill: var(--button-hover-fill-color);\n",
              "  }\n",
              "\n",
              "  .colab-df-quickchart-complete:disabled,\n",
              "  .colab-df-quickchart-complete:disabled:hover {\n",
              "    background-color: var(--disabled-bg-color);\n",
              "    fill: var(--disabled-fill-color);\n",
              "    box-shadow: none;\n",
              "  }\n",
              "\n",
              "  .colab-df-spinner {\n",
              "    border: 2px solid var(--fill-color);\n",
              "    border-color: transparent;\n",
              "    border-bottom-color: var(--fill-color);\n",
              "    animation:\n",
              "      spin 1s steps(1) infinite;\n",
              "  }\n",
              "\n",
              "  @keyframes spin {\n",
              "    0% {\n",
              "      border-color: transparent;\n",
              "      border-bottom-color: var(--fill-color);\n",
              "      border-left-color: var(--fill-color);\n",
              "    }\n",
              "    20% {\n",
              "      border-color: transparent;\n",
              "      border-left-color: var(--fill-color);\n",
              "      border-top-color: var(--fill-color);\n",
              "    }\n",
              "    30% {\n",
              "      border-color: transparent;\n",
              "      border-left-color: var(--fill-color);\n",
              "      border-top-color: var(--fill-color);\n",
              "      border-right-color: var(--fill-color);\n",
              "    }\n",
              "    40% {\n",
              "      border-color: transparent;\n",
              "      border-right-color: var(--fill-color);\n",
              "      border-top-color: var(--fill-color);\n",
              "    }\n",
              "    60% {\n",
              "      border-color: transparent;\n",
              "      border-right-color: var(--fill-color);\n",
              "    }\n",
              "    80% {\n",
              "      border-color: transparent;\n",
              "      border-right-color: var(--fill-color);\n",
              "      border-bottom-color: var(--fill-color);\n",
              "    }\n",
              "    90% {\n",
              "      border-color: transparent;\n",
              "      border-bottom-color: var(--fill-color);\n",
              "    }\n",
              "  }\n",
              "</style>\n",
              "\n",
              "      <script>\n",
              "        async function quickchart(key) {\n",
              "          const quickchartButtonEl =\n",
              "            document.querySelector('#' + key + ' button');\n",
              "          quickchartButtonEl.disabled = true;  // To prevent multiple clicks.\n",
              "          quickchartButtonEl.classList.add('colab-df-spinner');\n",
              "          try {\n",
              "            const charts = await google.colab.kernel.invokeFunction(\n",
              "                'suggestCharts', [key], {});\n",
              "          } catch (error) {\n",
              "            console.error('Error during call to suggestCharts:', error);\n",
              "          }\n",
              "          quickchartButtonEl.classList.remove('colab-df-spinner');\n",
              "          quickchartButtonEl.classList.add('colab-df-quickchart-complete');\n",
              "        }\n",
              "        (() => {\n",
              "          let quickchartButtonEl =\n",
              "            document.querySelector('#df-f3e0e84d-9da8-4a07-a871-a9ea14e6bbb7 button');\n",
              "          quickchartButtonEl.style.display =\n",
              "            google.colab.kernel.accessAllowed ? 'block' : 'none';\n",
              "        })();\n",
              "      </script>\n",
              "    </div>\n",
              "\n",
              "    </div>\n",
              "  </div>\n"
            ],
            "application/vnd.google.colaboratory.intrinsic+json": {
              "type": "dataframe",
              "variable_name": "draft_data",
              "summary": "{\n  \"name\": \"draft_data\",\n  \"rows\": 70,\n  \"fields\": [\n    {\n      \"column\": \"names\",\n      \"properties\": {\n        \"dtype\": \"string\",\n        \"num_unique_values\": 70,\n        \"samples\": [\n          \"Kyle Guy\",\n          \"Nickeil Alexander-Walker\",\n          \"Eric Paschall\"\n        ],\n        \"semantic_type\": \"\",\n        \"description\": \"\"\n      }\n    },\n    {\n      \"column\": \"position\",\n      \"properties\": {\n        \"dtype\": \"category\",\n        \"num_unique_values\": 13,\n        \"samples\": [\n          \"-SFPF\",\n          \"-SFPG\",\n          \"SG\"\n        ],\n        \"semantic_type\": \"\",\n        \"description\": \"\"\n      }\n    },\n    {\n      \"column\": \"height_no_shoes\",\n      \"properties\": {\n        \"dtype\": \"number\",\n        \"std\": 3.5304153885534477,\n        \"min\": 69.5,\n        \"max\": 89.25,\n        \"num_unique_values\": 41,\n        \"samples\": [\n          76.5,\n          75.0,\n          79.0\n        ],\n        \"semantic_type\": \"\",\n        \"description\": \"\"\n      }\n    },\n    {\n      \"column\": \"height_with_shoes\",\n      \"properties\": {\n        \"dtype\": \"number\",\n        \"std\": 3.561136048874311,\n        \"min\": 70.75,\n        \"max\": 91.0,\n        \"num_unique_values\": 40,\n        \"samples\": [\n          82.5,\n          72.25,\n          74.0\n        ],\n        \"semantic_type\": \"\",\n        \"description\": \"\"\n      }\n    },\n    {\n      \"column\": \"weight\",\n      \"properties\": {\n        \"dtype\": \"number\",\n        \"std\": 23.50941912774081,\n        \"min\": 167.8,\n        \"max\": 288.8,\n        \"num_unique_values\": 65,\n        \"samples\": [\n          255.8,\n          206.6,\n          203.8\n        ],\n        \"semantic_type\": \"\",\n        \"description\": \"\"\n      }\n    },\n    {\n      \"column\": \"wingspan\",\n      \"properties\": {\n        \"dtype\": \"number\",\n        \"std\": 4.18030480230397,\n        \"min\": 74.25,\n        \"max\": 98.25,\n        \"num_unique_values\": 42,\n        \"samples\": [\n          76.0,\n          80.5,\n          88.75\n        ],\n        \"semantic_type\": \"\",\n        \"description\": \"\"\n      }\n    },\n    {\n      \"column\": \"standing_reach\",\n      \"properties\": {\n        \"dtype\": \"number\",\n        \"std\": 5.264480178782611,\n        \"min\": 93.5,\n        \"max\": 122.5,\n        \"num_unique_values\": 33,\n        \"samples\": [\n          100.0,\n          94.5,\n          106.0\n        ],\n        \"semantic_type\": \"\",\n        \"description\": \"\"\n      }\n    },\n    {\n      \"column\": \"body_fat_prcnt\",\n      \"properties\": {\n        \"dtype\": \"number\",\n        \"std\": 1.744532318238233,\n        \"min\": 2.9,\n        \"max\": 14.0,\n        \"num_unique_values\": 37,\n        \"samples\": [\n          5.7,\n          5.5,\n          5.0\n        ],\n        \"semantic_type\": \"\",\n        \"description\": \"\"\n      }\n    },\n    {\n      \"column\": \"hand_length\",\n      \"properties\": {\n        \"dtype\": \"number\",\n        \"std\": 0.568644550891679,\n        \"min\": 7.5,\n        \"max\": 10.5,\n        \"num_unique_values\": 11,\n        \"samples\": [\n          8.75,\n          8.5,\n          9.75\n        ],\n        \"semantic_type\": \"\",\n        \"description\": \"\"\n      }\n    },\n    {\n      \"column\": \"hand_width\",\n      \"properties\": {\n        \"dtype\": \"number\",\n        \"std\": 0.6755202733830812,\n        \"min\": 8.0,\n        \"max\": 11.0,\n        \"num_unique_values\": 13,\n        \"samples\": [\n          8.0,\n          10.0,\n          8.75\n        ],\n        \"semantic_type\": \"\",\n        \"description\": \"\"\n      }\n    }\n  ]\n}"
            }
          },
          "metadata": {},
          "execution_count": 36
        }
      ],
      "source": [
        "# netCDF4 라이브러리를 이용하여 NetCDF-4 파일을 불러오기\n",
        "draft_data = nc.Dataset(\"/content/gdrive/MyDrive/nba_draft_measurements.nc\")\n",
        "\n",
        "# netCDF4 Dataset에서 데이터 추출\n",
        "# 여기서 변수 이름은 실제 파일의 구조에 따라 변경해야 한다.\n",
        "data = {}\n",
        "for var in draft_data.variables:\n",
        "    data[var] = draft_data.variables[var][:]\n",
        "\n",
        "# pandas DataFrame으로 변환\n",
        "draft_data = pd.DataFrame(data)\n",
        "\n",
        "# 데이터셋 보이기\n",
        "draft_data.head()"
      ]
    },
    {
      "cell_type": "markdown",
      "id": "eb5309bd",
      "metadata": {
        "id": "eb5309bd"
      },
      "source": [
        "### Step 2. 데이터의 각 특성(feature)에 개별적으로 접근하기"
      ]
    },
    {
      "cell_type": "markdown",
      "id": "5e42160e",
      "metadata": {
        "id": "5e42160e"
      },
      "source": [
        "pandas.DataFrame의 데이터셋에서 원하는 특성의 데이터에만 접근하는 것은 간단하다. 그리고 접근한 데이터 배열을 numpy의 ndarray 형식으로 변환해줄 수도 있다. 아래 두 코드를 실행해보고 그 차이를 이해해보자."
      ]
    },
    {
      "cell_type": "code",
      "execution_count": 37,
      "id": "131cbad7",
      "metadata": {
        "id": "131cbad7",
        "outputId": "204a1f42-595c-4e8a-ae49-ef2c28b333f0",
        "colab": {
          "base_uri": "https://localhost:8080/",
          "height": 458
        }
      },
      "outputs": [
        {
          "output_type": "execute_result",
          "data": {
            "text/plain": [
              "0     76.25\n",
              "1     80.75\n",
              "2     79.75\n",
              "3     84.75\n",
              "4     73.50\n",
              "      ...  \n",
              "65    75.00\n",
              "66    75.50\n",
              "67    78.25\n",
              "68    77.75\n",
              "69    78.25\n",
              "Name: height_no_shoes, Length: 70, dtype: float64"
            ],
            "text/html": [
              "<div>\n",
              "<style scoped>\n",
              "    .dataframe tbody tr th:only-of-type {\n",
              "        vertical-align: middle;\n",
              "    }\n",
              "\n",
              "    .dataframe tbody tr th {\n",
              "        vertical-align: top;\n",
              "    }\n",
              "\n",
              "    .dataframe thead th {\n",
              "        text-align: right;\n",
              "    }\n",
              "</style>\n",
              "<table border=\"1\" class=\"dataframe\">\n",
              "  <thead>\n",
              "    <tr style=\"text-align: right;\">\n",
              "      <th></th>\n",
              "      <th>height_no_shoes</th>\n",
              "    </tr>\n",
              "  </thead>\n",
              "  <tbody>\n",
              "    <tr>\n",
              "      <th>0</th>\n",
              "      <td>76.25</td>\n",
              "    </tr>\n",
              "    <tr>\n",
              "      <th>1</th>\n",
              "      <td>80.75</td>\n",
              "    </tr>\n",
              "    <tr>\n",
              "      <th>2</th>\n",
              "      <td>79.75</td>\n",
              "    </tr>\n",
              "    <tr>\n",
              "      <th>3</th>\n",
              "      <td>84.75</td>\n",
              "    </tr>\n",
              "    <tr>\n",
              "      <th>4</th>\n",
              "      <td>73.50</td>\n",
              "    </tr>\n",
              "    <tr>\n",
              "      <th>...</th>\n",
              "      <td>...</td>\n",
              "    </tr>\n",
              "    <tr>\n",
              "      <th>65</th>\n",
              "      <td>75.00</td>\n",
              "    </tr>\n",
              "    <tr>\n",
              "      <th>66</th>\n",
              "      <td>75.50</td>\n",
              "    </tr>\n",
              "    <tr>\n",
              "      <th>67</th>\n",
              "      <td>78.25</td>\n",
              "    </tr>\n",
              "    <tr>\n",
              "      <th>68</th>\n",
              "      <td>77.75</td>\n",
              "    </tr>\n",
              "    <tr>\n",
              "      <th>69</th>\n",
              "      <td>78.25</td>\n",
              "    </tr>\n",
              "  </tbody>\n",
              "</table>\n",
              "<p>70 rows × 1 columns</p>\n",
              "</div><br><label><b>dtype:</b> float64</label>"
            ]
          },
          "metadata": {},
          "execution_count": 37
        }
      ],
      "source": [
        "# height_no_shoes 특성의 데이터 배열에 접근하기\n",
        "draft_data.height_no_shoes"
      ]
    },
    {
      "cell_type": "code",
      "execution_count": 38,
      "id": "9547cc0a",
      "metadata": {
        "id": "9547cc0a",
        "outputId": "3075ee2f-8f48-49c1-f248-cf322b030f22",
        "colab": {
          "base_uri": "https://localhost:8080/"
        }
      },
      "outputs": [
        {
          "output_type": "execute_result",
          "data": {
            "text/plain": [
              "array([76.25, 80.75, 79.75, 84.75, 73.5 , 78.25, 73.  , 77.75, 79.  ,\n",
              "       85.25, 79.25, 82.  , 79.25, 77.25, 75.  , 74.75, 72.  , 70.75,\n",
              "       89.25, 80.75, 81.25, 76.  , 72.75, 73.5 , 69.75, 82.25, 81.  ,\n",
              "       76.5 , 79.25, 74.5 , 76.  , 76.25, 76.75, 79.  , 80.75, 78.75,\n",
              "       76.5 , 79.  , 74.5 , 76.5 , 76.75, 76.75, 77.  , 80.25, 76.5 ,\n",
              "       75.25, 77.75, 79.25, 76.25, 78.  , 80.  , 71.5 , 75.5 , 81.75,\n",
              "       76.  , 82.75, 78.5 , 80.75, 79.25, 81.5 , 76.  , 76.5 , 80.5 ,\n",
              "       78.5 , 69.5 , 75.  , 75.5 , 78.25, 77.75, 78.25])"
            ]
          },
          "metadata": {},
          "execution_count": 38
        }
      ],
      "source": [
        "# height_no_shoes 특성의 데이터 배열에 numpy.ndarray 형식으로 접근하기\n",
        "draft_data.height_no_shoes.values"
      ]
    },
    {
      "cell_type": "markdown",
      "id": "d42f5023",
      "metadata": {
        "id": "d42f5023"
      },
      "source": [
        "pandas.DataFrame는 numpy.ndarray와 동일한 요소별 벡터 연산이 가능하다. height_with_shoes 배열과 height_without_shoes 배열은 크기가 동일하기 때문에 아래와 같은 백터 연산이 가능하다. 아래 세 코드를 실행해보고 그 차이를 이해해보자."
      ]
    },
    {
      "cell_type": "code",
      "execution_count": 39,
      "id": "096d50d9",
      "metadata": {
        "id": "096d50d9",
        "outputId": "5a44d806-2445-40d9-8760-8e0a6d45dcfd",
        "colab": {
          "base_uri": "https://localhost:8080/",
          "height": 458
        }
      },
      "outputs": [
        {
          "output_type": "execute_result",
          "data": {
            "text/plain": [
              "0     1.25\n",
              "1     1.25\n",
              "2     1.25\n",
              "3     1.75\n",
              "4     1.25\n",
              "      ... \n",
              "65    1.25\n",
              "66    1.25\n",
              "67    1.50\n",
              "68    1.75\n",
              "69    1.25\n",
              "Length: 70, dtype: float64"
            ],
            "text/html": [
              "<div>\n",
              "<style scoped>\n",
              "    .dataframe tbody tr th:only-of-type {\n",
              "        vertical-align: middle;\n",
              "    }\n",
              "\n",
              "    .dataframe tbody tr th {\n",
              "        vertical-align: top;\n",
              "    }\n",
              "\n",
              "    .dataframe thead th {\n",
              "        text-align: right;\n",
              "    }\n",
              "</style>\n",
              "<table border=\"1\" class=\"dataframe\">\n",
              "  <thead>\n",
              "    <tr style=\"text-align: right;\">\n",
              "      <th></th>\n",
              "      <th>0</th>\n",
              "    </tr>\n",
              "  </thead>\n",
              "  <tbody>\n",
              "    <tr>\n",
              "      <th>0</th>\n",
              "      <td>1.25</td>\n",
              "    </tr>\n",
              "    <tr>\n",
              "      <th>1</th>\n",
              "      <td>1.25</td>\n",
              "    </tr>\n",
              "    <tr>\n",
              "      <th>2</th>\n",
              "      <td>1.25</td>\n",
              "    </tr>\n",
              "    <tr>\n",
              "      <th>3</th>\n",
              "      <td>1.75</td>\n",
              "    </tr>\n",
              "    <tr>\n",
              "      <th>4</th>\n",
              "      <td>1.25</td>\n",
              "    </tr>\n",
              "    <tr>\n",
              "      <th>...</th>\n",
              "      <td>...</td>\n",
              "    </tr>\n",
              "    <tr>\n",
              "      <th>65</th>\n",
              "      <td>1.25</td>\n",
              "    </tr>\n",
              "    <tr>\n",
              "      <th>66</th>\n",
              "      <td>1.25</td>\n",
              "    </tr>\n",
              "    <tr>\n",
              "      <th>67</th>\n",
              "      <td>1.50</td>\n",
              "    </tr>\n",
              "    <tr>\n",
              "      <th>68</th>\n",
              "      <td>1.75</td>\n",
              "    </tr>\n",
              "    <tr>\n",
              "      <th>69</th>\n",
              "      <td>1.25</td>\n",
              "    </tr>\n",
              "  </tbody>\n",
              "</table>\n",
              "<p>70 rows × 1 columns</p>\n",
              "</div><br><label><b>dtype:</b> float64</label>"
            ]
          },
          "metadata": {},
          "execution_count": 39
        }
      ],
      "source": [
        "height_added = draft_data.height_with_shoes - draft_data.height_no_shoes\n",
        "height_added"
      ]
    },
    {
      "cell_type": "code",
      "execution_count": 40,
      "id": "4d711a58",
      "metadata": {
        "id": "4d711a58",
        "outputId": "6bfe2dde-899c-42ab-e20d-2c59c867badf",
        "colab": {
          "base_uri": "https://localhost:8080/"
        }
      },
      "outputs": [
        {
          "output_type": "execute_result",
          "data": {
            "text/plain": [
              "array([1.25, 1.25, 1.25, 1.75, 1.25, 1.25, 1.25, 1.5 , 1.  , 1.25, 1.  ,\n",
              "       1.75, 1.5 , 1.5 , 1.5 , 1.5 , 2.  , 1.5 , 1.75, 1.5 , 1.25, 1.25,\n",
              "       1.5 , 1.5 , 1.25, 1.25, 1.25, 1.5 , 1.75, 1.5 , 1.  , 1.25, 1.25,\n",
              "       1.5 , 1.5 , 1.25, 1.5 , 1.5 , 1.75, 1.5 , 1.75, 0.75, 1.25, 1.5 ,\n",
              "       1.  , 1.  , 1.75, 2.25, 1.5 , 1.25, 1.25, 1.  , 2.  , 1.25, 1.5 ,\n",
              "       1.5 , 1.5 , 0.75, 1.25, 1.5 , 1.25, 1.  , 1.  , 1.5 , 1.25, 1.25,\n",
              "       1.25, 1.5 , 1.75, 1.25])"
            ]
          },
          "metadata": {},
          "execution_count": 40
        }
      ],
      "source": [
        "height_added = draft_data.height_with_shoes - draft_data.height_no_shoes\n",
        "height_added.values"
      ]
    },
    {
      "cell_type": "code",
      "execution_count": 41,
      "id": "dd6eaa1a",
      "metadata": {
        "id": "dd6eaa1a",
        "outputId": "9ad15aac-63fc-4d21-fbba-3ba47f92d98a",
        "colab": {
          "base_uri": "https://localhost:8080/",
          "height": 458
        }
      },
      "outputs": [
        {
          "output_type": "execute_result",
          "data": {
            "text/plain": [
              "0     1.25\n",
              "1     1.25\n",
              "2     1.25\n",
              "3     1.75\n",
              "4     1.25\n",
              "      ... \n",
              "65    1.25\n",
              "66    1.25\n",
              "67    1.50\n",
              "68    1.75\n",
              "69    1.25\n",
              "Name: height_with_shoes, Length: 70, dtype: float64"
            ],
            "text/html": [
              "<div>\n",
              "<style scoped>\n",
              "    .dataframe tbody tr th:only-of-type {\n",
              "        vertical-align: middle;\n",
              "    }\n",
              "\n",
              "    .dataframe tbody tr th {\n",
              "        vertical-align: top;\n",
              "    }\n",
              "\n",
              "    .dataframe thead th {\n",
              "        text-align: right;\n",
              "    }\n",
              "</style>\n",
              "<table border=\"1\" class=\"dataframe\">\n",
              "  <thead>\n",
              "    <tr style=\"text-align: right;\">\n",
              "      <th></th>\n",
              "      <th>height_with_shoes</th>\n",
              "    </tr>\n",
              "  </thead>\n",
              "  <tbody>\n",
              "    <tr>\n",
              "      <th>0</th>\n",
              "      <td>1.25</td>\n",
              "    </tr>\n",
              "    <tr>\n",
              "      <th>1</th>\n",
              "      <td>1.25</td>\n",
              "    </tr>\n",
              "    <tr>\n",
              "      <th>2</th>\n",
              "      <td>1.25</td>\n",
              "    </tr>\n",
              "    <tr>\n",
              "      <th>3</th>\n",
              "      <td>1.75</td>\n",
              "    </tr>\n",
              "    <tr>\n",
              "      <th>4</th>\n",
              "      <td>1.25</td>\n",
              "    </tr>\n",
              "    <tr>\n",
              "      <th>...</th>\n",
              "      <td>...</td>\n",
              "    </tr>\n",
              "    <tr>\n",
              "      <th>65</th>\n",
              "      <td>1.25</td>\n",
              "    </tr>\n",
              "    <tr>\n",
              "      <th>66</th>\n",
              "      <td>1.25</td>\n",
              "    </tr>\n",
              "    <tr>\n",
              "      <th>67</th>\n",
              "      <td>1.50</td>\n",
              "    </tr>\n",
              "    <tr>\n",
              "      <th>68</th>\n",
              "      <td>1.75</td>\n",
              "    </tr>\n",
              "    <tr>\n",
              "      <th>69</th>\n",
              "      <td>1.25</td>\n",
              "    </tr>\n",
              "  </tbody>\n",
              "</table>\n",
              "<p>70 rows × 1 columns</p>\n",
              "</div><br><label><b>dtype:</b> float64</label>"
            ]
          },
          "metadata": {},
          "execution_count": 41
        }
      ],
      "source": [
        "height_added = draft_data.height_with_shoes - draft_data.height_no_shoes.values\n",
        "height_added"
      ]
    },
    {
      "cell_type": "markdown",
      "id": "8bf399f7",
      "metadata": {
        "id": "8bf399f7"
      },
      "source": [
        "pandas.DataFrame는 numpy.ndarray와 동일한 mean(), std() 등의 수학 함수도 정의되어 있기 때문에 같은 방식으로 사용할 수 있다. 이 함수들을 이용하면 데이터의 통계량을 쉽게 구할 수 있다. 선수의 신발에 의해 추가된 키의 평균과 표준편차를 계산하는 코드를 스스로 작성해보자."
      ]
    },
    {
      "cell_type": "code",
      "execution_count": 42,
      "id": "4ec20e2e",
      "metadata": {
        "id": "4ec20e2e",
        "outputId": "311edc00-23de-4055-9335-edf070ef5bb7",
        "colab": {
          "base_uri": "https://localhost:8080/"
        }
      },
      "outputs": [
        {
          "output_type": "stream",
          "name": "stdout",
          "text": [
            "1.3857142857142857\n",
            "0.2780812696795379\n"
          ]
        }
      ],
      "source": [
        "# 신발에 의해 추가된 키의 평균과 표준편차를 계산\n",
        "# 여기에 코드 작성\n",
        "print(height_added.mean())\n",
        "print(height_added.std())"
      ]
    },
    {
      "cell_type": "code",
      "execution_count": 43,
      "id": "02379385",
      "metadata": {
        "id": "02379385",
        "outputId": "ca8d45d7-782f-42b2-b3ef-940b9a78044c",
        "colab": {
          "base_uri": "https://localhost:8080/"
        }
      },
      "outputs": [
        {
          "output_type": "stream",
          "name": "stdout",
          "text": [
            "1.3857142857142857\n",
            "0.2760878298583956\n"
          ]
        }
      ],
      "source": [
        "print(height_added.values.mean())\n",
        "print(height_added.values.std())"
      ]
    },
    {
      "cell_type": "markdown",
      "id": "0fd713f9",
      "metadata": {
        "id": "0fd713f9"
      },
      "source": [
        "### Step 3. 데이터셋 시각화하기"
      ]
    },
    {
      "cell_type": "markdown",
      "id": "28d9bb11",
      "metadata": {
        "id": "28d9bb11"
      },
      "source": [
        "이제 데이터셋을 시각화하는 방법을 연습해보자. 시각화를 도와주는 라이브러리로는 matplotlib가 있다. import하여 편리하게 사용할 수 있다.\n",
        "\n",
        "원래 matplotlib.pyplot은 show() 함수를 통해서 그래프를 출력하도록 되어 있다. 그러나 jupyter notebook에서는 매직 커맨드 (magic commend) %을 이용하여 show 없이도 자동으로 그래프를 확인할 수 있다.\n",
        "\n",
        "%matplotlib inline : 정적인 그래프를 보여준다.\n",
        "\n",
        "%matplotlib notebook : 동적인 그래프를 보여준다.\n",
        "\n",
        "동적인 그래프는 시간에 따라 변화하는 그래프를 그릴 수 있다는 것을 의미하며, 시간에 따른 머신러닝의 진행 정도를 살펴볼 때와 같이 쓰임이 유용하다."
      ]
    },
    {
      "cell_type": "code",
      "execution_count": 44,
      "id": "c908c399",
      "metadata": {
        "id": "c908c399"
      },
      "outputs": [],
      "source": [
        "import matplotlib.pyplot as plt\n",
        "%matplotlib inline"
      ]
    },
    {
      "cell_type": "markdown",
      "id": "d77187e6",
      "metadata": {
        "id": "d77187e6"
      },
      "source": [
        "몇 가지 예시를 통해 matplotlib를 사용하는 방법에 대해 연습한 후, 직접 실행해보자. 여기서는 그래프를 그리는 데 필요한 기본적인 규칙들을 안내할 예정이다. (라이브러리의 더 자세하고 다양한 기능을 알아보고 싶다면 스스로 구글링을 해보는 습관을 기르는 것도 도움이 될 것이다.)\n",
        "\n",
        "fig는 그래프를 그리는 전체 화면을, ax는 그래프를 그릴 공간을 나타낸다고 보면 된다. 아래 두 예제는 각각 하나의 fig에 하나의 ax를 만든 경우와 하나의 fig에 행을 두 개로 나누어 두 개의 ax를 만든 경우이다.\n",
        "\n",
        "set_title()은 그래프의 제목을 작성해주고, grid()는 ax 그래프 공간에 실선의 좌표격자를 그려주는 함수이다. 그리고, xarray 형태의 draft_data는 각 항목의 이름만 x, y에 대입해주면 plot.scatter를 이용하여 산점도를 쉽게 나타낼 수 있다."
      ]
    },
    {
      "cell_type": "code",
      "execution_count": 45,
      "id": "3b9187b2",
      "metadata": {
        "id": "3b9187b2",
        "outputId": "4fc77056-69e3-467f-a22b-44baa3fdacf1",
        "colab": {
          "base_uri": "https://localhost:8080/",
          "height": 472
        }
      },
      "outputs": [
        {
          "output_type": "display_data",
          "data": {
            "text/plain": [
              "<Figure size 640x480 with 1 Axes>"
            ],
            "image/png": "[encoded data removed]"
          },
          "metadata": {}
        }
      ],
      "source": [
        "fig, ax = plt.subplots()\n",
        "draft_data.plot.scatter(x=\"hand_length\", y=\"hand_width\", ax=ax)\n",
        "ax.set_title(\"Hands of NBA Draftees (2019)\")\n",
        "ax.grid()"
      ]
    },
    {
      "cell_type": "code",
      "execution_count": 46,
      "id": "87878564",
      "metadata": {
        "id": "87878564",
        "outputId": "a77bd438-b8dc-4b64-d95e-9b063d300885",
        "colab": {
          "base_uri": "https://localhost:8080/",
          "height": 545
        }
      },
      "outputs": [
        {
          "output_type": "stream",
          "name": "stderr",
          "text": [
            "/usr/local/lib/python3.11/dist-packages/IPython/core/events.py:89: UserWarning: Glyph 0 (\u0000) missing from font(s) DejaVu Sans.\n",
            "  func(*args, **kwargs)\n",
            "/usr/local/lib/python3.11/dist-packages/IPython/core/pylabtools.py:151: UserWarning: Glyph 0 (\u0000) missing from font(s) DejaVu Sans.\n",
            "  fig.canvas.print_figure(bytes_io, **kw)\n"
          ]
        },
        {
          "output_type": "display_data",
          "data": {
            "text/plain": [
              "<Figure size 640x480 with 2 Axes>"
            ],
            "image/png": "[encoded data removed]"
          },
          "metadata": {}
        }
      ],
      "source": [
        "fig, axes = plt.subplots(nrows=2)\n",
        "draft_data.plot.scatter(x=\"position\", y=\"height_no_shoes\", ax=axes[0])\n",
        "draft_data.plot.scatter(x=\"position\", y=\"weight\", ax=axes[1])\n",
        "axes[0].set_title(\"Metrics for NBA Draftees (2019)\")\n",
        "[ax.grid() for ax in axes];"
      ]
    },
    {
      "cell_type": "markdown",
      "id": "133e29bf",
      "metadata": {
        "id": "133e29bf"
      },
      "source": [
        "matplotlib의 기본 사용법을 이용하여 아래와 같이 산점도를 쉽게 나타낼 수 있다. 각 x, y축에 해당하는 데이터를 저장한 후, ax.scatter() 함수를 이용하면 산점도를 그릴 수 있다. 아래 코드를 실행했을 때, 위에서 본 그래프와 동일함을 확인하고 그 이유를 생각해보자.\n",
        "numpy array type으로도 가능하다. .values\n"
      ]
    },
    {
      "cell_type": "code",
      "execution_count": 47,
      "id": "5b8e61d2",
      "metadata": {
        "id": "5b8e61d2",
        "outputId": "09e05064-a46d-448c-c499-7bf930ee4534",
        "colab": {
          "base_uri": "https://localhost:8080/",
          "height": 452
        }
      },
      "outputs": [
        {
          "output_type": "display_data",
          "data": {
            "text/plain": [
              "<Figure size 640x480 with 1 Axes>"
            ],
            "image/png": "[encoded data removed]"
          },
          "metadata": {}
        }
      ],
      "source": [
        "fig, ax = plt.subplots()\n",
        "x = draft_data.hand_length.values\n",
        "y = draft_data.hand_width.values\n",
        "ax.scatter(x, y)\n",
        "ax.set_title(\"Hands of NBA Draftees (2019)\")\n",
        "ax.grid()"
      ]
    },
    {
      "cell_type": "markdown",
      "id": "ab85dab8",
      "metadata": {
        "id": "ab85dab8"
      },
      "source": [
        "scatter 함수와 같이 matplotlib를 이용하여 그래프를 그릴 수 있는 함수로는 ax.plot() 함수가 있다. plot 함수를 이용하면 점들을 직선으로 이은 그래프를 그릴 수 있다. 아래 예시와 같이 x에 들어갈 numpy.ndarray를 직접 만들어준 후, 임의의 수학적 함수의 그래프를 그려볼 수 있다. x의 정의역이 불연속적이지만 충분히 많은 원소를 갖기 때문에, 그래프를 그려보았을 때 미분가능한 매끄러운 함수라고 느낄 수 있다.\n",
        "\n",
        "ax.plot(), ax.scatter() 등은 color(c), linestyle(ls), label 등의 매개변수(parameter)를 통해 색깔, 선의 종류 뿐만 아니라 범례로 들어갈 그래프의 label까지도 지정해줄 수 있다. 이런 인자와 인자에 들어갈 수 있는 값들을 전부 외우기는 어렵고, 그럴 필요도 없으며, 필요할 때 검색을 통해 찾아낼 수 있으면 충분하다."
      ]
    },
    {
      "cell_type": "code",
      "execution_count": 48,
      "id": "865b45b2",
      "metadata": {
        "id": "865b45b2",
        "outputId": "988b2e3a-48e9-489b-fc26-f0cb39993dac",
        "colab": {
          "base_uri": "https://localhost:8080/",
          "height": 456
        }
      },
      "outputs": [
        {
          "output_type": "display_data",
          "data": {
            "text/plain": [
              "<Figure size 640x480 with 1 Axes>"
            ],
            "image/png": "[encoded data removed]"
          },
          "metadata": {}
        }
      ],
      "source": [
        "import numpy as np\n",
        "\n",
        "fig, ax = plt.subplots()\n",
        "x = np.linspace(-10, 10, 1000)\n",
        "ax.plot(x, x**2, label=\"$x^2$\")\n",
        "ax.legend();\n",
        "ax.set_title(\"$f(x)=x^2$\")\n",
        "ax.grid()"
      ]
    },
    {
      "cell_type": "markdown",
      "id": "f2e36cb2",
      "metadata": {
        "id": "f2e36cb2"
      },
      "source": [
        "위의 예시들을 통해 그래프 그리는 법을 잘 이해했다면, 이번에는 직접 그래프를 그려보자. x축이 \"height_no_shoes\", y축이 \"wingspan\" 데이터를 나타내는 2D plot을 그려보자. (Hint: x축, y축의 이름을 변경하려면 set_xlabel(), set_ylabel() 함수를 검색해보자)"
      ]
    },
    {
      "cell_type": "code",
      "execution_count": 49,
      "id": "d194090f",
      "metadata": {
        "id": "d194090f",
        "outputId": "3806f92e-76cf-468e-d7a3-d71be3c24bf0",
        "colab": {
          "base_uri": "https://localhost:8080/",
          "height": 452
        }
      },
      "outputs": [
        {
          "output_type": "display_data",
          "data": {
            "text/plain": [
              "<Figure size 640x480 with 1 Axes>"
            ],
            "image/png": "[encoded data removed]"
          },
          "metadata": {}
        }
      ],
      "source": [
        "# 윙스팬 vs 키 산점도 그리기\n",
        "\n",
        "# 여기에 코드 작성\n",
        "fig, ax = plt.subplots()\n",
        "x = draft_data.height_no_shoes\n",
        "y = draft_data.wingspan\n",
        "ax.scatter(x, y)\n",
        "ax.set_title(\"Hands of NBA Draftees (2019)\")\n",
        "ax.grid()"
      ]
    },
    {
      "cell_type": "markdown",
      "id": "31f80109",
      "metadata": {
        "id": "31f80109"
      },
      "source": [
        "마지막으로 우리가 그린 윙스팬 vs 키 산점도 2D plot 위에 선형 회귀 직선을 그려보자. 우리는 앞선 예제 2-4에서 데이터 쌍을 입력해주었을 때 최적의 선형 회귀 직선의 기울기와 y절편 값을 구해주는 ordinary_least_squares() 함수를 구현한 바 있다. 그 함수를 그대로 가져와서 사용해보자.\n",
        "\n",
        "또한, 위에서 그린 산점도의 코드를 그대로 가져와서 아래에 코드를 일부 추가하기만 하면 우리가 원하는대로 선형 회귀 직선을 추가할 수 있다.\n",
        "\n",
        "선형 회귀 직선을 추가할 때는 앞서 한 번 살펴보았던 ax.plot() 함수를 이용하자. ax.plot() 함수는 매개변수로 numpy.ndarray 형식의 x, y 값들을 보내주어야 한다. 추가로 매개변수 c=\"red\", label=\"mx+b\" 와 같이 직선의 색깔과 label을 설정해줄 수 있다. 문자열의 앞 뒤에 다음과 같이 $ 표시를 넣어주면 수식을 입력할 수 있다.\n",
        "\n",
        "$m^{*}x+b^{*}$"
      ]
    },
    {
      "cell_type": "code",
      "execution_count": 50,
      "id": "d4c48b4c",
      "metadata": {
        "id": "d4c48b4c",
        "outputId": "cc14a2f6-492f-4277-d2fd-56a8e084267e",
        "colab": {
          "base_uri": "https://localhost:8080/"
        }
      },
      "outputs": [
        {
          "output_type": "stream",
          "name": "stdout",
          "text": [
            "1.0269361143266387\n",
            "2.8045506927401505\n"
          ]
        }
      ],
      "source": [
        "import numpy as np\n",
        "\n",
        "def ordinary_least_squares(x, y):\n",
        "    m = (np.sum(x*y)-(np.sum(x)*np.sum(y))/np.shape(x)[0])/(np.sum(x*x)-(np.sum(x))**2/np.shape(x)[0])\n",
        "    b = y.mean()-m*x.mean()\n",
        "\n",
        "    return m ,b\n",
        "# 여기에 코드 작성\n",
        "x = draft_data.height_no_shoes.values\n",
        "y = draft_data.wingspan.values\n",
        "m ,b = ordinary_least_squares(x,y)\n",
        "print(m)\n",
        "print(b)"
      ]
    },
    {
      "cell_type": "code",
      "execution_count": 51,
      "id": "70bdf246",
      "metadata": {
        "id": "70bdf246",
        "outputId": "0eefc396-4b41-4138-af9b-018c10239b87",
        "colab": {
          "base_uri": "https://localhost:8080/"
        }
      },
      "outputs": [
        {
          "output_type": "stream",
          "name": "stdout",
          "text": [
            "1.0269361143266387\n",
            "2.8045506927401505\n"
          ]
        }
      ],
      "source": [
        "import numpy as np\n",
        "\n",
        "def ordinary_least_squares(x, y):\n",
        "\n",
        "    N = x.size\n",
        "    m = (np.matmul(x,y)-x.sum()*y.sum()/N) / (np.matmul(x,x) - (1/N) * x.sum()**2)\n",
        "    b = y.mean() - m*x.mean()\n",
        "    return m, b\n",
        "x = draft_data.height_no_shoes.values\n",
        "y = draft_data.wingspan.values\n",
        "m ,b = ordinary_least_squares(x,y)\n",
        "print(m)\n",
        "print(b)"
      ]
    },
    {
      "cell_type": "code",
      "execution_count": 52,
      "id": "d2ee8598",
      "metadata": {
        "id": "d2ee8598",
        "outputId": "cb44ec71-f9c9-4e18-d5c2-c812446a310f",
        "colab": {
          "base_uri": "https://localhost:8080/",
          "height": 470
        }
      },
      "outputs": [
        {
          "output_type": "execute_result",
          "data": {
            "text/plain": [
              "<matplotlib.legend.Legend at 0x7b98f24c52d0>"
            ]
          },
          "metadata": {},
          "execution_count": 52
        },
        {
          "output_type": "display_data",
          "data": {
            "text/plain": [
              "<Figure size 640x480 with 1 Axes>"
            ],
            "image/png": "[encoded data removed]"
          },
          "metadata": {}
        }
      ],
      "source": [
        "# 윙스팬 vs 키 산점도 그리기 (복습)\n",
        "\n",
        "# 여기에 코드 작성\n",
        "fig, ax = plt.subplots()\n",
        "x = draft_data.height_no_shoes\n",
        "y = draft_data.wingspan\n",
        "ax.scatter(x, y)\n",
        "ax.set_title(\"Hands of NBA Draftees (2019)\")\n",
        "ax.grid()\n",
        "# 윙스팬, 키 데이터 각각 접근하여 numpy.ndarray로 변환한 후 m*, b* 구하기\n",
        "# 여기에 코드 작성\n",
        "x = draft_data.height_no_shoes.values\n",
        "y = draft_data.wingspan.values\n",
        "m ,b = ordinary_least_squares(x,y)\n",
        "\n",
        "# ax.plot() 함수 사용하여 그래프 그리기\n",
        "# x의 정의역 데이터 속 키의 최솟값과 최댓값 사이의 구간으로 잡기\n",
        "# 구간을 1000개 정도로 나누면 충분함\n",
        "# 여기에 코드 작성\n",
        "x = np.linspace(67, 90, 1000)\n",
        "ax.plot(x, m*x+b, label=\"line\")\n",
        "\n",
        "# 범례로 들어갈 그래프의 label들을 자동으로 생성해주는 함수\n",
        "ax.legend()"
      ]
    },
    {
      "cell_type": "markdown",
      "id": "1e532108",
      "metadata": {
        "id": "1e532108"
      },
      "source": [
        "### 배운 내용 되돌아보기"
      ]
    },
    {
      "cell_type": "markdown",
      "id": "effdb337",
      "metadata": {
        "id": "effdb337"
      },
      "source": [
        "이번 실습에서는 2019 NBA 드래프트 참가자들의 신체 정보가 담긴 데이터셋을 가지고 데이터셋을 다루는 기본적인 방법들을 익혔다.\n",
        "\n",
        "- 데이터에 대해 탐색하며 데이터의 형식, 수집 방법, 통계에 관한 세 가지 질문을 던졌다. 데이터에 대한 탐색을 바탕으로 적절한 분석 수단(모델)을 선택해야 하며, 오류와 편향을 미리 예측하고 대비할 수 있다.\n",
        "\n",
        "- pandas 라이브러리를 이용하여 데이터를 불러온 후, 데이터셋을 관찰하였다.\n",
        "\n",
        "- pandas.DataFrame과 numpy.ndarray를 이용하여 데이터의 각 특성(feature)에 개별적으로 접근하고 필요한 정보를 가져와서 이용하는 연습을 해 보았다. 또한, 데이터의 통계량도 구해보았다.\n",
        "\n",
        "- matplotlib 라이브러리를 이용하여 데이터를 시각화하는 연습을 해 보았다. 데이터셋의 데이터들을 산점도로 표시해보고, 원하는 함수를 그래프로 그려보기도 하였다.\n",
        "\n",
        "- 키와 윙스팬의 관계를 나타낸 산점도 위에, 이들의 관계를 나타낼 수 있는 최적의 선형 모델의 그래프를 함께 시각화하였다.\n"
      ]
    },
    {
      "cell_type": "code",
      "source": [],
      "metadata": {
        "id": "hObn5neeSGFj"
      },
      "id": "hObn5neeSGFj",
      "execution_count": 52,
      "outputs": []
    }
  ],
  "metadata": {
    "kernelspec": {
      "display_name": "Python 3 (ipykernel)",
      "language": "python",
      "name": "python3"
    },
    "language_info": {
      "codemirror_mode": {
        "name": "ipython",
        "version": 3
      },
      "file_extension": ".py",
      "mimetype": "text/x-python",
      "name": "python",
      "nbconvert_exporter": "python",
      "pygments_lexer": "ipython3",
      "version": "3.8.18"
    },
    "colab": {
      "provenance": [],
      "include_colab_link": true
    }
  },
  "nbformat": 4,
  "nbformat_minor": 5
}